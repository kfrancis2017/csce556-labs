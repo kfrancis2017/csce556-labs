{
  "cells": [
    {
      "cell_type": "markdown",
      "metadata": {
        "id": "view-in-github",
        "colab_type": "text"
      },
      "source": [
        "<a href=\"https://colab.research.google.com/github/kfrancis2017/csce556-labs/blob/main/CSCE556_Lab1_basic_python_no_answer.ipynb\" target=\"_parent\"><img src=\"https://colab.research.google.com/assets/colab-badge.svg\" alt=\"Open In Colab\"/></a>"
      ]
    },
    {
      "cell_type": "markdown",
      "metadata": {
        "id": "_Cf3h9VaIvTD"
      },
      "source": [
        "# CSCE 556 - Data Analysis in Python: Application to Neuroscience\n",
        "\n",
        "## Laboratory 1 - Fundamental concepts of Python programming\n",
        "\n",
        "The goal of this laboratory is to exercice your basic Python programming skills. For this reason, you are asked to solve this laboratory only using Python's standard library functions (i.e., without using libraries such as NumPy, Pandas, etc.).\n",
        "\n",
        "### Part 1\n",
        "\n",
        "Here is a poem from a popular American poet. We would like to know the number of each vowel (a, e, i, o, u) in each of the sentences of this poem."
      ]
    },
    {
      "cell_type": "code",
      "execution_count": 35,
      "metadata": {
        "id": "cMVN9X44MasC"
      },
      "outputs": [],
      "source": [
        "title = \"Still I Rise\"\n",
        "author = \"Maya Angelou\"\n",
        "\n",
        "# Note that multi-lines strings can be defined\n",
        "# by pairs of triple-quotes like this...\n",
        "poem = \"\"\"You may write me down in history\n",
        "With your bitter, twisted lies,\n",
        "You may trod me in the very dirt\n",
        "But still, like dust, I'll rise.\n",
        "\n",
        "Does my sassiness upset you?\n",
        "Why are you beset with gloom?\n",
        "’Cause I walk like I've got oil wells\n",
        "Pumping in my living room.\n",
        "\n",
        "Just like moons and like suns,\n",
        "With the certainty of tides,\n",
        "Just like hopes springing high,\n",
        "Still I'll rise.\n",
        "\n",
        "Did you want to see me broken?\n",
        "Bowed head and lowered eyes?\n",
        "Shoulders falling down like teardrops,\n",
        "Weakened by my soulful cries?\n",
        "\n",
        "Does my haughtiness offend you?\n",
        "Don't you take it awful hard\n",
        "’Cause I laugh like I've got gold mines\n",
        "Diggin’ in my own backyard.\n",
        "\n",
        "You may shoot me with your words,\n",
        "You may cut me with your eyes,\n",
        "You may kill me with your hatefulness,\n",
        "But still, like air, I’ll rise.\n",
        "\n",
        "Does my sexiness upset you?\n",
        "Does it come as a surprise\n",
        "That I dance like I've got diamonds\n",
        "At the meeting of my thighs?\n",
        "\n",
        "Out of the huts of history’s shame\n",
        "I rise\n",
        "Up from a past that’s rooted in pain\n",
        "I rise\n",
        "I'm a black ocean, leaping and wide,\n",
        "Welling and swelling I bear in the tide.\n",
        "\n",
        "Leaving behind nights of terror and fear\n",
        "I rise\n",
        "Into a daybreak that’s wondrously clear\n",
        "I rise\n",
        "Bringing the gifts that my ancestors gave,\n",
        "I am the dream and the hope of the slave.\n",
        "I rise\n",
        "I rise\n",
        "I rise.\"\"\""
      ]
    },
    {
      "cell_type": "markdown",
      "metadata": {
        "id": "fV9TNJi-KCDA"
      },
      "source": [
        "To achieve that, you need first to split this text into sentences, which we will define here as any strings of text separated by \".\", \"!\", or \"?\". Create a list of these sentences.\n",
        "\n",
        "**Coding hint**: Strings are actually just collections of characters and can be indexed or looped over just like lists:\n",
        "```python\n",
        "my_string = \"You held on to me like I was a crucifix as we went kneeling through the dark\"\n",
        "for character in my_string:\n",
        "    if character == \"o\":\n",
        "        print(\"I found an 'o'!\")\n",
        "```\n",
        "\n",
        "**Hint to validate that your code work**: You should get 16 sentences!"
      ]
    },
    {
      "cell_type": "code",
      "execution_count": 47,
      "metadata": {
        "id": "_aRj2vU5J_dM"
      },
      "outputs": [],
      "source": [
        "##### insert your code ##### (20%)\n",
        "import re\n",
        "sent_list = []\n",
        "poem = poem.lower()\n",
        "for sentence in re.split('\\.|\\!|\\?', poem):\n",
        "  if(sentence != ''):\n",
        "    sent_list.append(sentence)\n",
        "############################"
      ]
    },
    {
      "cell_type": "markdown",
      "metadata": {
        "id": "kobxYdM8L0eL"
      },
      "source": [
        "Now that you have split the poems into 16 sentences, create a list of 16 dictionaries containing the number of each vowel.\n",
        "\n",
        "Hint to validate that your code works: Here is what the result should look like:\n",
        "\n",
        "```python\n",
        "[{'a': 2, 'e': 10, 'i': 13, 'o': 6, 'u': 5},\n",
        " {'a': 1, 'e': 3, 'i': 1, 'o': 2, 'u': 2},\n",
        " {'a': 1, 'e': 3, 'i': 1, 'o': 3, 'u': 1},\n",
        " {'a': 2, 'e': 4, 'i': 8, 'o': 4, 'u': 2},\n",
        " {'a': 2, 'e': 8, 'i': 12, 'o': 4, 'u': 3},\n",
        " {'a': 1, 'e': 4, 'i': 1, 'o': 3, 'u': 1},\n",
        " {'a': 2, 'e': 6, 'i': 0, 'o': 2, 'u': 0},\n",
        " {'a': 3, 'e': 7, 'i': 3, 'o': 4, 'u': 3},\n",
        " {'a': 1, 'e': 3, 'i': 1, 'o': 3, 'u': 2},\n",
        " {'a': 7, 'e': 5, 'i': 8, 'o': 5, 'u': 4},\n",
        " {'a': 5, 'e': 9, 'i': 9, 'o': 9, 'u': 9},\n",
        " {'a': 0, 'e': 4, 'i': 1, 'o': 2, 'u': 2},\n",
        " {'a': 6, 'e': 9, 'i': 8, 'o': 5, 'u': 1},\n",
        " {'a': 12, 'e': 13, 'i': 15, 'o': 8, 'u': 3},\n",
        " {'a': 15, 'e': 17, 'i': 12, 'o': 8, 'u': 1},\n",
        " {'a': 0, 'e': 3, 'i': 6, 'o': 0, 'u': 0}]\n",
        "```"
      ]
    },
    {
      "cell_type": "code",
      "execution_count": 46,
      "metadata": {
        "colab": {
          "base_uri": "https://localhost:8080/"
        },
        "id": "2eEeGVKzQoHS",
        "outputId": "f37cd5e2-1d8a-4ae6-f3eb-d50d18f79b68"
      },
      "outputs": [
        {
          "output_type": "stream",
          "name": "stdout",
          "text": [
            "{'a': 2, 'e': 10, 'i': 13, 'o': 6, 'u': 5}\n",
            "{'a': 1, 'e': 3, 'i': 1, 'o': 2, 'u': 2}\n",
            "{'a': 1, 'e': 3, 'i': 1, 'o': 3, 'u': 1}\n",
            "{'a': 2, 'e': 4, 'i': 8, 'o': 4, 'u': 2}\n",
            "{'a': 2, 'e': 8, 'i': 12, 'o': 4, 'u': 3}\n",
            "{'a': 1, 'e': 4, 'i': 1, 'o': 3, 'u': 1}\n",
            "{'a': 2, 'e': 6, 'i': 0, 'o': 2, 'u': 0}\n",
            "{'a': 3, 'e': 7, 'i': 3, 'o': 4, 'u': 3}\n",
            "{'a': 1, 'e': 3, 'i': 1, 'o': 3, 'u': 2}\n",
            "{'a': 7, 'e': 5, 'i': 8, 'o': 5, 'u': 4}\n",
            "{'a': 5, 'e': 9, 'i': 9, 'o': 9, 'u': 9}\n",
            "{'a': 0, 'e': 4, 'i': 1, 'o': 2, 'u': 2}\n",
            "{'a': 6, 'e': 9, 'i': 8, 'o': 5, 'u': 1}\n",
            "{'a': 12, 'e': 13, 'i': 15, 'o': 8, 'u': 3}\n",
            "{'a': 15, 'e': 17, 'i': 12, 'o': 8, 'u': 1}\n",
            "{'a': 0, 'e': 3, 'i': 6, 'o': 0, 'u': 0}\n"
          ]
        }
      ],
      "source": [
        "##### insert your code ##### (30%)\n",
        "vowel_list = []\n",
        "for sentence in sent_list:\n",
        "  vowel_dict={'a': 0, 'e': 0, 'i': 0, 'o': 0, 'u': 0}\n",
        "  for character in sentence:\n",
        "    if character == \"a\":\n",
        "      vowel_dict['a'] += 1\n",
        "    elif character == \"e\":\n",
        "      vowel_dict['e'] += 1\n",
        "    elif character == \"i\":\n",
        "      vowel_dict['i'] += 1\n",
        "    elif character == \"o\":\n",
        "      vowel_dict['o'] += 1\n",
        "    elif character == \"u\":\n",
        "      vowel_dict['u'] += 1\n",
        "  vowel_list.append(vowel_dict)\n",
        "\n",
        "# Displaying the list\n",
        "for dictionary in vowel_list:\n",
        "  print(dictionary)\n",
        "############################"
      ]
    },
    {
      "cell_type": "markdown",
      "source": [
        "### Part 2\n",
        "\n",
        "Nowadays, governments have embraced transparency and open data sharing. Many types of data can be obtained directly on the net. The following code downloads a CSV (coma-separated values) file."
      ],
      "metadata": {
        "id": "aCwCvU42E-Yi"
      }
    },
    {
      "cell_type": "code",
      "execution_count": 48,
      "metadata": {
        "id": "56eOxQIWJkdL"
      },
      "outputs": [],
      "source": [
        "import requests\n",
        "\n",
        "# URL for data on household incomes from the census\n",
        "income_data = \"https://www.dropbox.com/scl/fi/yw8j1umm95vn7upkynfqv/Median-Household-Income-by-County-2011-2020_0-1.csv?rlkey=6eqkd4w4nvdofna0i267edmra&dl=1\"\n",
        "# These data are originally available at the following sc.gov URL\n",
        "# \"https://rfa.sc.gov/sites/default/files/2022-03/Median%20Household%20Income%20by%20County%202011-2020_0.csv\"\n",
        "# The direct download from this website often fails, hence we use a dropbox link.\n",
        "\n",
        "r = requests.get(income_data, allow_redirects=True)\n",
        "data_txt = r.content.decode()"
      ]
    },
    {
      "cell_type": "markdown",
      "source": [
        "The variable `data_txt` contains the text contained in this CSV file. Format the information in this variable so that you can print out these data **exactly** in the format shown below. Note that the width of the first columns is 20 characters and the width of the other columns are 10 characters each. Thus, with the `|` separators, each line is 20+10*10+12 characters wide (i.e., one column of 20 characters, 10 columns of 10 characters, and 12 separator characters).\n",
        "\n",
        "**Note**: String functions `split`, `center`, `join` and `replace` may come in handy for this formatting.\n",
        "\n",
        "```\n",
        "====================================================================================================================================\n",
        "|       County       |   2011   |   2012   |   2013   |   2014   |   2015   |   2016   |   2017   |   2018   |   2019   |   2020   |\n",
        "------------------------------------------------------------------------------------------------------------------------------------\n",
        "|   South Carolina   | $43,290  | $43,290  | $44,310  | $45,337  | $47,308  | $49,587  | $50,675  | $52,449  | $56,360  | $57,216  |\n",
        "|     Abbeville      | $35,456  | $35,456  | $36,187  | $35,525  | $35,932  | $40,211  | $41,118  | $42,412  | $46,499  | $47,219  |\n",
        "|       Aiken        | $45,699  | $45,699  | $43,876  | $48,537  | $48,012  | $47,394  | $51,583  | $52,633  | $56,824  | $57,128  |\n",
        "|     Allendale      | $25,633  | $25,633  | $25,753  | $25,530  | $27,089  | $26,864  | $28,135  | $29,124  | $32,147  | $32,701  |\n",
        "|      Anderson      | $39,905  | $39,905  | $41,591  | $43,124  | $44,745  | $45,821  | $48,846  | $51,740  | $54,496  | $52,667  |\n",
        "|      Bamberg       | $30,170  | $30,170  | $30,762  | $30,349  | $29,642  | $32,245  | $32,693  | $36,230  | $35,364  | $39,969  |\n",
        "|      Barnwell      | $32,042  | $32,042  | $31,899  | $32,205  | $33,280  | $41,803  | $36,568  | $38,131  | $36,675  | $41,717  |\n",
        "|      Beaufort      | $54,139  | $54,139  | $56,354  | $55,427  | $60,071  | $65,354  | $60,319  | $65,843  | $73,890  | $76,515  |\n",
        "|      Berkeley      | $49,872  | $49,872  | $50,794  | $52,436  | $55,876  | $58,690  | $57,399  | $62,204  | $68,690  | $70,371  |\n",
        "|      Calhoun       | $42,006  | $42,006  | $40,593  | $41,209  | $41,277  | $41,786  | $45,149  | $45,385  | $47,090  | $50,977  |\n",
        "|     Charleston     | $48,200  | $48,200  | $51,206  | $52,752  | $56,244  | $56,564  | $60,144  | $62,958  | $70,980  | $72,451  |\n",
        "|      Cherokee      | $37,135  | $37,135  | $37,726  | $38,947  | $37,098  | $38,273  | $34,962  | $42,542  | $46,905  | $45,085  |\n",
        "|      Chester       | $33,718  | $33,718  | $36,523  | $37,537  | $35,006  | $39,972  | $40,850  | $42,116  | $45,400  | $45,366  |\n",
        "|    Chesterfield    | $31,936  | $31,936  | $33,591  | $34,949  | $36,520  | $39,869  | $38,881  | $39,046  | $42,441  | $44,792  |\n",
        "|     Clarendon      | $30,519  | $30,519  | $30,096  | $32,268  | $34,654  | $34,541  | $36,647  | $36,722  | $39,900  | $52,983  |\n",
        "|      Colleton      | $33,208  | $33,208  | $33,817  | $35,558  | $33,745  | $35,760  | $36,139  | $39,079  | $40,808  | $44,399  |\n",
        "|     Darlington     | $34,103  | $34,103  | $34,209  | $35,640  | $36,719  | $37,711  | $38,886  | $37,206  | $44,007  | $42,082  |\n",
        "|       Dillon       | $29,205  | $29,205  | $33,696  | $30,516  | $31,094  | $31,761  | $32,229  | $33,159  | $35,483  | $40,930  |\n",
        "|     Dorchester     | $53,924  | $53,924  | $55,193  | $56,388  | $55,595  | $58,167  | $63,269  | $65,468  | $68,051  | $62,928  |\n",
        "|     Edgefield      | $42,065  | $42,065  | $44,862  | $44,129  | $46,430  | $46,816  | $48,059  | $48,818  | $52,591  | $55,005  |\n",
        "|     Fairfield      | $34,007  | $34,007  | $35,531  | $35,490  | $36,622  | $36,715  | $40,285  | $39,522  | $42,496  | $45,648  |\n",
        "|      Florence      | $40,577  | $40,577  | $41,028  | $42,232  | $41,197  | $45,044  | $43,727  | $47,949  | $49,770  | $47,429  |\n",
        "|     Georgetown     | $40,962  | $40,962  | $41,213  | $44,283  | $44,395  | $47,842  | $48,373  | $46,058  | $53,747  | $57,991  |\n",
        "|     Greenville     | $47,044  | $47,044  | $49,476  | $49,659  | $52,017  | $55,452  | $56,311  | $61,162  | $64,399  | $62,475  |\n",
        "|     Greenwood      | $37,187  | $37,187  | $37,217  | $38,878  | $42,240  | $40,599  | $42,740  | $43,879  | $43,958  | $43,711  |\n",
        "|      Hampton       | $32,934  | $32,934  | $32,941  | $33,644  | $30,772  | $35,667  | $36,834  | $35,871  | $37,560  | $43,614  |\n",
        "|       Horry        | $40,249  | $40,249  | $41,808  | $42,830  | $47,083  | $45,608  | $45,979  | $49,082  | $53,648  | $55,055  |\n",
        "|       Jasper       | $35,692  | $35,692  | $34,852  | $37,715  | $37,231  | $41,902  | $40,960  | $43,125  | $50,790  | $48,988  |\n",
        "|      Kershaw       | $46,019  | $46,019  | $44,787  | $45,411  | $48,233  | $48,824  | $50,627  | $52,270  | $56,318  | $60,397  |\n",
        "|     Lancaster      | $43,479  | $43,479  | $40,837  | $44,854  | $47,279  | $53,421  | $57,667  | $58,035  | $63,842  | $63,019  |\n",
        "|      Laurens       | $36,483  | $36,483  | $36,771  | $38,268  | $39,731  | $43,191  | $41,695  | $42,099  | $47,038  | $43,766  |\n",
        "|        Lee         | $30,053  | $30,053  | $30,972  | $31,510  | $31,525  | $32,015  | $33,756  | $33,199  | $37,710  | $40,400  |\n",
        "|     Lexington      | $52,249  | $52,249  | $53,880  | $54,098  | $55,413  | $57,623  | $60,329  | $60,627  | $62,059  | $62,839  |\n",
        "|     McCormick      | $39,413  | $39,413  | $38,186  | $38,694  | $41,589  | $43,262  | $44,644  | $44,683  | $48,645  | $50,698  |\n",
        "|       Marion       | $29,140  | $29,140  | $28,520  | $32,283  | $30,528  | $31,556  | $31,438  | $34,365  | $35,138  | $38,498  |\n",
        "|      Marlboro      | $28,927  | $28,927  | $31,185  | $31,170  | $32,485  | $32,991  | $33,412  | $33,534  | $34,532  | $38,877  |\n",
        "|      Newberry      | $38,808  | $38,808  | $37,890  | $42,000  | $41,120  | $42,128  | $42,538  | $48,029  | $50,773  | $52,202  |\n",
        "|       Oconee       | $42,062  | $42,062  | $42,077  | $39,548  | $44,819  | $46,996  | $51,087  | $50,529  | $52,240  | $58,061  |\n",
        "|     Orangeburg     | $33,796  | $33,796  | $32,180  | $31,382  | $37,651  | $34,557  | $36,358  | $37,134  | $38,736  | $41,335  |\n",
        "|      Pickens       | $39,823  | $39,823  | $42,400  | $41,375  | $44,091  | $46,154  | $48,133  | $48,794  | $52,949  | $54,588  |\n",
        "|      Richland      | $47,606  | $47,606  | $47,492  | $49,782  | $51,065  | $51,973  | $52,187  | $52,611  | $52,905  | $56,993  |\n",
        "|       Saluda       | $41,552  | $41,552  | $40,366  | $42,286  | $41,409  | $43,685  | $44,487  | $46,019  | $49,493  | $46,216  |\n",
        "|    Spartanburg     | $41,327  | $41,327  | $42,638  | $44,050  | $45,768  | $47,706  | $51,035  | $53,567  | $55,588  | $53,485  |\n",
        "|       Sumter       | $39,014  | $39,014  | $39,182  | $37,906  | $41,058  | $41,205  | $44,375  | $45,181  | $49,611  | $45,724  |\n",
        "|       Union        | $32,717  | $32,717  | $34,042  | $37,501  | $35,467  | $39,119  | $41,327  | $40,686  | $42,851  | $46,567  |\n",
        "|    Williamsburg    | $28,121  | $28,121  | $29,391  | $29,609  | $28,943  | $28,314  | $32,421  | $32,814  | $34,409  | $38,186  |\n",
        "|        York        | $51,427  | $51,427  | $54,927  | $54,196  | $57,302  | $61,044  | $62,620  | $64,904  | $68,468  | $72,579  |\n",
        "====================================================================================================================================\n",
        "\n",
        "```"
      ],
      "metadata": {
        "id": "CLbw__zagXnp"
      }
    },
    {
      "cell_type": "code",
      "source": [
        "##### insert your code ##### (50%)\n",
        "print(data_txt)\n",
        "############################"
      ],
      "metadata": {
        "colab": {
          "base_uri": "https://localhost:8080/"
        },
        "id": "LWAx2HFc9VtN",
        "outputId": "1c2ee418-b956-4d06-857d-a7130a623eae"
      },
      "execution_count": 52,
      "outputs": [
        {
          "output_type": "stream",
          "name": "stdout",
          "text": [
            "Median Household Income by County 2011-2020,,,,,,,,,,\r\n",
            ", 2011 , 2012 , 2013 , 2014 , 2015 , 2016 , 2017 , 2018 , 2019 , 2020 \r\n",
            "South Carolina,\"$43,290 \",\"$43,290 \",\"$44,310 \",\"$45,337 \",\"$47,308 \",\"$49,587 \",\"$50,675 \",\"$52,449 \",\"$56,360 \",\"$57,216 \"\r\n",
            "Abbeville,\"$35,456 \",\"$35,456 \",\"$36,187 \",\"$35,525 \",\"$35,932 \",\"$40,211 \",\"$41,118 \",\"$42,412 \",\"$46,499 \",\"$47,219 \"\r\n",
            "Aiken,\"$45,699 \",\"$45,699 \",\"$43,876 \",\"$48,537 \",\"$48,012 \",\"$47,394 \",\"$51,583 \",\"$52,633 \",\"$56,824 \",\"$57,128 \"\r\n",
            "Allendale,\"$25,633 \",\"$25,633 \",\"$25,753 \",\"$25,530 \",\"$27,089 \",\"$26,864 \",\"$28,135 \",\"$29,124 \",\"$32,147 \",\"$32,701 \"\r\n",
            "Anderson,\"$39,905 \",\"$39,905 \",\"$41,591 \",\"$43,124 \",\"$44,745 \",\"$45,821 \",\"$48,846 \",\"$51,740 \",\"$54,496 \",\"$52,667 \"\r\n",
            "Bamberg,\"$30,170 \",\"$30,170 \",\"$30,762 \",\"$30,349 \",\"$29,642 \",\"$32,245 \",\"$32,693 \",\"$36,230 \",\"$35,364 \",\"$39,969 \"\r\n",
            "Barnwell,\"$32,042 \",\"$32,042 \",\"$31,899 \",\"$32,205 \",\"$33,280 \",\"$41,803 \",\"$36,568 \",\"$38,131 \",\"$36,675 \",\"$41,717 \"\r\n",
            "Beaufort,\"$54,139 \",\"$54,139 \",\"$56,354 \",\"$55,427 \",\"$60,071 \",\"$65,354 \",\"$60,319 \",\"$65,843 \",\"$73,890 \",\"$76,515 \"\r\n",
            "Berkeley,\"$49,872 \",\"$49,872 \",\"$50,794 \",\"$52,436 \",\"$55,876 \",\"$58,690 \",\"$57,399 \",\"$62,204 \",\"$68,690 \",\"$70,371 \"\r\n",
            "Calhoun,\"$42,006 \",\"$42,006 \",\"$40,593 \",\"$41,209 \",\"$41,277 \",\"$41,786 \",\"$45,149 \",\"$45,385 \",\"$47,090 \",\"$50,977 \"\r\n",
            "Charleston,\"$48,200 \",\"$48,200 \",\"$51,206 \",\"$52,752 \",\"$56,244 \",\"$56,564 \",\"$60,144 \",\"$62,958 \",\"$70,980 \",\"$72,451 \"\r\n",
            "Cherokee,\"$37,135 \",\"$37,135 \",\"$37,726 \",\"$38,947 \",\"$37,098 \",\"$38,273 \",\"$34,962 \",\"$42,542 \",\"$46,905 \",\"$45,085 \"\r\n",
            "Chester,\"$33,718 \",\"$33,718 \",\"$36,523 \",\"$37,537 \",\"$35,006 \",\"$39,972 \",\"$40,850 \",\"$42,116 \",\"$45,400 \",\"$45,366 \"\r\n",
            "Chesterfield,\"$31,936 \",\"$31,936 \",\"$33,591 \",\"$34,949 \",\"$36,520 \",\"$39,869 \",\"$38,881 \",\"$39,046 \",\"$42,441 \",\"$44,792 \"\r\n",
            "Clarendon,\"$30,519 \",\"$30,519 \",\"$30,096 \",\"$32,268 \",\"$34,654 \",\"$34,541 \",\"$36,647 \",\"$36,722 \",\"$39,900 \",\"$52,983 \"\r\n",
            "Colleton,\"$33,208 \",\"$33,208 \",\"$33,817 \",\"$35,558 \",\"$33,745 \",\"$35,760 \",\"$36,139 \",\"$39,079 \",\"$40,808 \",\"$44,399 \"\r\n",
            "Darlington,\"$34,103 \",\"$34,103 \",\"$34,209 \",\"$35,640 \",\"$36,719 \",\"$37,711 \",\"$38,886 \",\"$37,206 \",\"$44,007 \",\"$42,082 \"\r\n",
            "Dillon,\"$29,205 \",\"$29,205 \",\"$33,696 \",\"$30,516 \",\"$31,094 \",\"$31,761 \",\"$32,229 \",\"$33,159 \",\"$35,483 \",\"$40,930 \"\r\n",
            "Dorchester,\"$53,924 \",\"$53,924 \",\"$55,193 \",\"$56,388 \",\"$55,595 \",\"$58,167 \",\"$63,269 \",\"$65,468 \",\"$68,051 \",\"$62,928 \"\r\n",
            "Edgefield,\"$42,065 \",\"$42,065 \",\"$44,862 \",\"$44,129 \",\"$46,430 \",\"$46,816 \",\"$48,059 \",\"$48,818 \",\"$52,591 \",\"$55,005 \"\r\n",
            "Fairfield,\"$34,007 \",\"$34,007 \",\"$35,531 \",\"$35,490 \",\"$36,622 \",\"$36,715 \",\"$40,285 \",\"$39,522 \",\"$42,496 \",\"$45,648 \"\r\n",
            "Florence,\"$40,577 \",\"$40,577 \",\"$41,028 \",\"$42,232 \",\"$41,197 \",\"$45,044 \",\"$43,727 \",\"$47,949 \",\"$49,770 \",\"$47,429 \"\r\n",
            "Georgetown,\"$40,962 \",\"$40,962 \",\"$41,213 \",\"$44,283 \",\"$44,395 \",\"$47,842 \",\"$48,373 \",\"$46,058 \",\"$53,747 \",\"$57,991 \"\r\n",
            "Greenville,\"$47,044 \",\"$47,044 \",\"$49,476 \",\"$49,659 \",\"$52,017 \",\"$55,452 \",\"$56,311 \",\"$61,162 \",\"$64,399 \",\"$62,475 \"\r\n",
            "Greenwood,\"$37,187 \",\"$37,187 \",\"$37,217 \",\"$38,878 \",\"$42,240 \",\"$40,599 \",\"$42,740 \",\"$43,879 \",\"$43,958 \",\"$43,711 \"\r\n",
            "Hampton,\"$32,934 \",\"$32,934 \",\"$32,941 \",\"$33,644 \",\"$30,772 \",\"$35,667 \",\"$36,834 \",\"$35,871 \",\"$37,560 \",\"$43,614 \"\r\n",
            "Horry,\"$40,249 \",\"$40,249 \",\"$41,808 \",\"$42,830 \",\"$47,083 \",\"$45,608 \",\"$45,979 \",\"$49,082 \",\"$53,648 \",\"$55,055 \"\r\n",
            "Jasper,\"$35,692 \",\"$35,692 \",\"$34,852 \",\"$37,715 \",\"$37,231 \",\"$41,902 \",\"$40,960 \",\"$43,125 \",\"$50,790 \",\"$48,988 \"\r\n",
            "Kershaw,\"$46,019 \",\"$46,019 \",\"$44,787 \",\"$45,411 \",\"$48,233 \",\"$48,824 \",\"$50,627 \",\"$52,270 \",\"$56,318 \",\"$60,397 \"\r\n",
            "Lancaster,\"$43,479 \",\"$43,479 \",\"$40,837 \",\"$44,854 \",\"$47,279 \",\"$53,421 \",\"$57,667 \",\"$58,035 \",\"$63,842 \",\"$63,019 \"\r\n",
            "Laurens,\"$36,483 \",\"$36,483 \",\"$36,771 \",\"$38,268 \",\"$39,731 \",\"$43,191 \",\"$41,695 \",\"$42,099 \",\"$47,038 \",\"$43,766 \"\r\n",
            "Lee,\"$30,053 \",\"$30,053 \",\"$30,972 \",\"$31,510 \",\"$31,525 \",\"$32,015 \",\"$33,756 \",\"$33,199 \",\"$37,710 \",\"$40,400 \"\r\n",
            "Lexington,\"$52,249 \",\"$52,249 \",\"$53,880 \",\"$54,098 \",\"$55,413 \",\"$57,623 \",\"$60,329 \",\"$60,627 \",\"$62,059 \",\"$62,839 \"\r\n",
            "McCormick,\"$39,413 \",\"$39,413 \",\"$38,186 \",\"$38,694 \",\"$41,589 \",\"$43,262 \",\"$44,644 \",\"$44,683 \",\"$48,645 \",\"$50,698 \"\r\n",
            "Marion,\"$29,140 \",\"$29,140 \",\"$28,520 \",\"$32,283 \",\"$30,528 \",\"$31,556 \",\"$31,438 \",\"$34,365 \",\"$35,138 \",\"$38,498 \"\r\n",
            "Marlboro,\"$28,927 \",\"$28,927 \",\"$31,185 \",\"$31,170 \",\"$32,485 \",\"$32,991 \",\"$33,412 \",\"$33,534 \",\"$34,532 \",\"$38,877 \"\r\n",
            "Newberry,\"$38,808 \",\"$38,808 \",\"$37,890 \",\"$42,000 \",\"$41,120 \",\"$42,128 \",\"$42,538 \",\"$48,029 \",\"$50,773 \",\"$52,202 \"\r\n",
            "Oconee,\"$42,062 \",\"$42,062 \",\"$42,077 \",\"$39,548 \",\"$44,819 \",\"$46,996 \",\"$51,087 \",\"$50,529 \",\"$52,240 \",\"$58,061 \"\r\n",
            "Orangeburg,\"$33,796 \",\"$33,796 \",\"$32,180 \",\"$31,382 \",\"$37,651 \",\"$34,557 \",\"$36,358 \",\"$37,134 \",\"$38,736 \",\"$41,335 \"\r\n",
            "Pickens,\"$39,823 \",\"$39,823 \",\"$42,400 \",\"$41,375 \",\"$44,091 \",\"$46,154 \",\"$48,133 \",\"$48,794 \",\"$52,949 \",\"$54,588 \"\r\n",
            "Richland,\"$47,606 \",\"$47,606 \",\"$47,492 \",\"$49,782 \",\"$51,065 \",\"$51,973 \",\"$52,187 \",\"$52,611 \",\"$52,905 \",\"$56,993 \"\r\n",
            "Saluda,\"$41,552 \",\"$41,552 \",\"$40,366 \",\"$42,286 \",\"$41,409 \",\"$43,685 \",\"$44,487 \",\"$46,019 \",\"$49,493 \",\"$46,216 \"\r\n",
            "Spartanburg,\"$41,327 \",\"$41,327 \",\"$42,638 \",\"$44,050 \",\"$45,768 \",\"$47,706 \",\"$51,035 \",\"$53,567 \",\"$55,588 \",\"$53,485 \"\r\n",
            "Sumter,\"$39,014 \",\"$39,014 \",\"$39,182 \",\"$37,906 \",\"$41,058 \",\"$41,205 \",\"$44,375 \",\"$45,181 \",\"$49,611 \",\"$45,724 \"\r\n",
            "Union,\"$32,717 \",\"$32,717 \",\"$34,042 \",\"$37,501 \",\"$35,467 \",\"$39,119 \",\"$41,327 \",\"$40,686 \",\"$42,851 \",\"$46,567 \"\r\n",
            "Williamsburg,\"$28,121 \",\"$28,121 \",\"$29,391 \",\"$29,609 \",\"$28,943 \",\"$28,314 \",\"$32,421 \",\"$32,814 \",\"$34,409 \",\"$38,186 \"\r\n",
            "York,\"$51,427 \",\"$51,427 \",\"$54,927 \",\"$54,196 \",\"$57,302 \",\"$61,044 \",\"$62,620 \",\"$64,904 \",\"$68,468 \",\"$72,579 \"\r\n",
            "\"Source: US Census Bureau, Small Area Income and Poverty Estimates (SAIPE) 2011-2020.\",,,,,,,,,,\r\n",
            ",,,,,,,,,,\r\n",
            "https://www2.census.gov/programs-surveys/saipe/datasets/2011/2011-state-and-county/est11all.xls,,,,,,,,,,\r\n",
            "https://www2.census.gov/programs-surveys/saipe/datasets/2012/2012-state-and-county/est12all.xls,,,,,,,,,,\r\n",
            "https://www2.census.gov/programs-surveys/saipe/datasets/2013/2013-state-and-county/est13all.xls,,,,,,,,,,\r\n",
            "https://www2.census.gov/programs-surveys/saipe/datasets/2014/2014-state-and-county/est14all.xls,,,,,,,,,,\r\n",
            "https://www2.census.gov/programs-surveys/saipe/datasets/2015/2015-state-and-county/est15all.xls,,,,,,,,,,\r\n",
            "https://www2.census.gov/programs-surveys/saipe/datasets/2016/2016-state-and-county/est16all.xls,,,,,,,,,,\r\n",
            "https://www2.census.gov/programs-surveys/saipe/datasets/2017/2017-state-and-county/est17all.xls,,,,,,,,,,\r\n",
            "https://www2.census.gov/programs-surveys/saipe/datasets/2018/2018-state-and-county/est18all.xls,,,,,,,,,,\r\n",
            "https://www2.census.gov/programs-surveys/saipe/datasets/2019/2019-state-and-county/est19all.xls,,,,,,,,,,\r\n",
            "https://www2.census.gov/programs-surveys/saipe/datasets/2020/2020-state-and-county/est20all.xls,,,,,,,,,,\r\n",
            "\n"
          ]
        }
      ]
    },
    {
      "cell_type": "markdown",
      "source": [
        "# Submission\n",
        "\n",
        "Please submit a .ipynb file containing your answers in Blackboard. A simple way to generate such a .ipynb file from a Colab Notebook is to click File --> Download --> Download .ipynb. This .ipynb file will need to be added as an attachment to your submission. The deadline to submit your lab is specified on Blackboard. Late submissions are penalized 20% per day, as per the syllabus."
      ],
      "metadata": {
        "id": "j7L0A6HwegF0"
      }
    }
  ],
  "metadata": {
    "colab": {
      "provenance": [],
      "include_colab_link": true
    },
    "kernelspec": {
      "display_name": "Python 3",
      "name": "python3"
    },
    "language_info": {
      "name": "python"
    }
  },
  "nbformat": 4,
  "nbformat_minor": 0
}